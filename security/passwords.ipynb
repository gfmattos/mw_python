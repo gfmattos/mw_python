{
 "cells": [
  {
   "cell_type": "code",
   "execution_count": 1,
   "metadata": {},
   "outputs": [],
   "source": [
    "from hashlib import sha256"
   ]
  },
  {
   "cell_type": "code",
   "execution_count": 7,
   "metadata": {},
   "outputs": [
    {
     "name": "stdout",
     "output_type": "stream",
     "text": [
      "8bcbb4c131df56f7c79066016241cc4bdf4e58db55c4f674e88b22365bd2e2ad\n",
      "66e5e3784fdec0644094fc696b609227e9529dbf3af86eba3a97d9930af27f3b\n"
     ]
    }
   ],
   "source": [
    "hash_pass = sha256(input('User: ').encode()).hexdigest()\n",
    "hash_user = sha256(input('Password: ').encode()).hexdigest()\n",
    "\n",
    "print(hash_user)\n",
    "print(hash_pass)"
   ]
  },
  {
   "cell_type": "code",
   "execution_count": null,
   "metadata": {},
   "outputs": [],
   "source": []
  }
 ],
 "metadata": {
  "kernelspec": {
   "display_name": "Python 3.8.8 ('.venv': venv)",
   "language": "python",
   "name": "python3"
  },
  "language_info": {
   "codemirror_mode": {
    "name": "ipython",
    "version": 3
   },
   "file_extension": ".py",
   "mimetype": "text/x-python",
   "name": "python",
   "nbconvert_exporter": "python",
   "pygments_lexer": "ipython3",
   "version": "3.8.8"
  },
  "orig_nbformat": 4,
  "vscode": {
   "interpreter": {
    "hash": "45fe10efa64bbcffba8811c10d7d3a9d39459c698510053669a843b267a3952f"
   }
  }
 },
 "nbformat": 4,
 "nbformat_minor": 2
}
