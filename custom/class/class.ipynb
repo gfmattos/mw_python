{
 "cells": [
  {
   "cell_type": "code",
   "execution_count": 1,
   "metadata": {},
   "outputs": [],
   "source": [
    "from openpyxl import Workbook, load_workbook"
   ]
  },
  {
   "cell_type": "code",
   "execution_count": 2,
   "metadata": {},
   "outputs": [
    {
     "ename": "FileNotFoundError",
     "evalue": "[Errno 2] No such file or directory: 'automobileEDA.xlsx'",
     "output_type": "error",
     "traceback": [
      "\u001b[1;31m---------------------------------------------------------------------------\u001b[0m",
      "\u001b[1;31mFileNotFoundError\u001b[0m                         Traceback (most recent call last)",
      "Cell \u001b[1;32mIn[2], line 1\u001b[0m\n\u001b[1;32m----> 1\u001b[0m wb \u001b[39m=\u001b[39m load_workbook(\u001b[39m'\u001b[39;49m\u001b[39mautomobileEDA.xlsx\u001b[39;49m\u001b[39m'\u001b[39;49m)\n\u001b[0;32m      3\u001b[0m sheet \u001b[39m=\u001b[39m wb\u001b[39m.\u001b[39mactive\n\u001b[0;32m      5\u001b[0m \u001b[39mfor\u001b[39;00m cell \u001b[39min\u001b[39;00m sheet[\u001b[39m'\u001b[39m\u001b[39mD\u001b[39m\u001b[39m'\u001b[39m]:\n",
      "File \u001b[1;32md:\\DOCS\\my_workspace\\lab_house\\mw_git\\mw_python\\.venv\\lib\\site-packages\\openpyxl\\reader\\excel.py:315\u001b[0m, in \u001b[0;36mload_workbook\u001b[1;34m(filename, read_only, keep_vba, data_only, keep_links)\u001b[0m\n\u001b[0;32m    288\u001b[0m \u001b[39mdef\u001b[39;00m \u001b[39mload_workbook\u001b[39m(filename, read_only\u001b[39m=\u001b[39m\u001b[39mFalse\u001b[39;00m, keep_vba\u001b[39m=\u001b[39mKEEP_VBA,\n\u001b[0;32m    289\u001b[0m                   data_only\u001b[39m=\u001b[39m\u001b[39mFalse\u001b[39;00m, keep_links\u001b[39m=\u001b[39m\u001b[39mTrue\u001b[39;00m):\n\u001b[0;32m    290\u001b[0m     \u001b[39m\"\"\"Open the given filename and return the workbook\u001b[39;00m\n\u001b[0;32m    291\u001b[0m \n\u001b[0;32m    292\u001b[0m \u001b[39m    :param filename: the path to open or a file-like object\u001b[39;00m\n\u001b[1;32m   (...)\u001b[0m\n\u001b[0;32m    313\u001b[0m \n\u001b[0;32m    314\u001b[0m \u001b[39m    \"\"\"\u001b[39;00m\n\u001b[1;32m--> 315\u001b[0m     reader \u001b[39m=\u001b[39m ExcelReader(filename, read_only, keep_vba,\n\u001b[0;32m    316\u001b[0m                         data_only, keep_links)\n\u001b[0;32m    317\u001b[0m     reader\u001b[39m.\u001b[39mread()\n\u001b[0;32m    318\u001b[0m     \u001b[39mreturn\u001b[39;00m reader\u001b[39m.\u001b[39mwb\n",
      "File \u001b[1;32md:\\DOCS\\my_workspace\\lab_house\\mw_git\\mw_python\\.venv\\lib\\site-packages\\openpyxl\\reader\\excel.py:124\u001b[0m, in \u001b[0;36mExcelReader.__init__\u001b[1;34m(self, fn, read_only, keep_vba, data_only, keep_links)\u001b[0m\n\u001b[0;32m    122\u001b[0m \u001b[39mdef\u001b[39;00m \u001b[39m__init__\u001b[39m(\u001b[39mself\u001b[39m,  fn, read_only\u001b[39m=\u001b[39m\u001b[39mFalse\u001b[39;00m, keep_vba\u001b[39m=\u001b[39mKEEP_VBA,\n\u001b[0;32m    123\u001b[0m               data_only\u001b[39m=\u001b[39m\u001b[39mFalse\u001b[39;00m, keep_links\u001b[39m=\u001b[39m\u001b[39mTrue\u001b[39;00m):\n\u001b[1;32m--> 124\u001b[0m     \u001b[39mself\u001b[39m\u001b[39m.\u001b[39marchive \u001b[39m=\u001b[39m _validate_archive(fn)\n\u001b[0;32m    125\u001b[0m     \u001b[39mself\u001b[39m\u001b[39m.\u001b[39mvalid_files \u001b[39m=\u001b[39m \u001b[39mself\u001b[39m\u001b[39m.\u001b[39marchive\u001b[39m.\u001b[39mnamelist()\n\u001b[0;32m    126\u001b[0m     \u001b[39mself\u001b[39m\u001b[39m.\u001b[39mread_only \u001b[39m=\u001b[39m read_only\n",
      "File \u001b[1;32md:\\DOCS\\my_workspace\\lab_house\\mw_git\\mw_python\\.venv\\lib\\site-packages\\openpyxl\\reader\\excel.py:96\u001b[0m, in \u001b[0;36m_validate_archive\u001b[1;34m(filename)\u001b[0m\n\u001b[0;32m     89\u001b[0m             msg \u001b[39m=\u001b[39m (\u001b[39m'\u001b[39m\u001b[39mopenpyxl does not support \u001b[39m\u001b[39m%s\u001b[39;00m\u001b[39m file format, \u001b[39m\u001b[39m'\u001b[39m\n\u001b[0;32m     90\u001b[0m                    \u001b[39m'\u001b[39m\u001b[39mplease check you can open \u001b[39m\u001b[39m'\u001b[39m\n\u001b[0;32m     91\u001b[0m                    \u001b[39m'\u001b[39m\u001b[39mit with Excel first. \u001b[39m\u001b[39m'\u001b[39m\n\u001b[0;32m     92\u001b[0m                    \u001b[39m'\u001b[39m\u001b[39mSupported formats are: \u001b[39m\u001b[39m%s\u001b[39;00m\u001b[39m'\u001b[39m) \u001b[39m%\u001b[39m (file_format,\n\u001b[0;32m     93\u001b[0m                                                    \u001b[39m'\u001b[39m\u001b[39m,\u001b[39m\u001b[39m'\u001b[39m\u001b[39m.\u001b[39mjoin(SUPPORTED_FORMATS))\n\u001b[0;32m     94\u001b[0m         \u001b[39mraise\u001b[39;00m InvalidFileException(msg)\n\u001b[1;32m---> 96\u001b[0m archive \u001b[39m=\u001b[39m ZipFile(filename, \u001b[39m'\u001b[39;49m\u001b[39mr\u001b[39;49m\u001b[39m'\u001b[39;49m)\n\u001b[0;32m     97\u001b[0m \u001b[39mreturn\u001b[39;00m archive\n",
      "File \u001b[1;32m~\\anaconda3\\lib\\zipfile.py:1251\u001b[0m, in \u001b[0;36mZipFile.__init__\u001b[1;34m(self, file, mode, compression, allowZip64, compresslevel, strict_timestamps)\u001b[0m\n\u001b[0;32m   1249\u001b[0m \u001b[39mwhile\u001b[39;00m \u001b[39mTrue\u001b[39;00m:\n\u001b[0;32m   1250\u001b[0m     \u001b[39mtry\u001b[39;00m:\n\u001b[1;32m-> 1251\u001b[0m         \u001b[39mself\u001b[39m\u001b[39m.\u001b[39mfp \u001b[39m=\u001b[39m io\u001b[39m.\u001b[39;49mopen(file, filemode)\n\u001b[0;32m   1252\u001b[0m     \u001b[39mexcept\u001b[39;00m \u001b[39mOSError\u001b[39;00m:\n\u001b[0;32m   1253\u001b[0m         \u001b[39mif\u001b[39;00m filemode \u001b[39min\u001b[39;00m modeDict:\n",
      "\u001b[1;31mFileNotFoundError\u001b[0m: [Errno 2] No such file or directory: 'automobileEDA.xlsx'"
     ]
    }
   ],
   "source": [
    "wb = load_workbook('automobileEDA.xlsx')\n",
    "\n",
    "sheet = wb.active\n",
    "\n",
    "for cell in sheet['D']:\n",
    "    if cell.value == 'sedan':\n",
    "        row = cell.row\n",
    "        sheet[f'G{row}'] = 10\n",
    "\n",
    "wb.save('automobileEDA_Pyxl.xlsx')"
   ]
  }
 ],
 "metadata": {
  "kernelspec": {
   "display_name": "Python 3.8.8 ('.venv': venv)",
   "language": "python",
   "name": "python3"
  },
  "language_info": {
   "codemirror_mode": {
    "name": "ipython",
    "version": 3
   },
   "file_extension": ".py",
   "mimetype": "text/x-python",
   "name": "python",
   "nbconvert_exporter": "python",
   "pygments_lexer": "ipython3",
   "version": "3.8.8"
  },
  "orig_nbformat": 4,
  "vscode": {
   "interpreter": {
    "hash": "45fe10efa64bbcffba8811c10d7d3a9d39459c698510053669a843b267a3952f"
   }
  }
 },
 "nbformat": 4,
 "nbformat_minor": 2
}
