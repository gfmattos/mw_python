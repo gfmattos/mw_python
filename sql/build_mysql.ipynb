import sqlite3

conn = sqlite3.connect('test_database') 
c = conn.cursor()