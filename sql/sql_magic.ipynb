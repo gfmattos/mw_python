{
 "cells": [
  {
   "cell_type": "code",
   "execution_count": 1,
   "metadata": {},
   "outputs": [],
   "source": [
    "%load_ext sql\n",
    "%sql sqlite:///databases/mydb.db"
   ]
  },
  {
   "cell_type": "code",
   "execution_count": 2,
   "metadata": {},
   "outputs": [
    {
     "name": "stdout",
     "output_type": "stream",
     "text": [
      " * sqlite:///databases/mydb.db\n",
      "(sqlite3.OperationalError) table Fam already exists\n",
      "[SQL: CREATE TABLE Fam(Name TEXT, Age INTEGER, Profession TEXT, Major TEXT);]\n",
      "(Background on this error at: https://sqlalche.me/e/20/e3q8)\n"
     ]
    }
   ],
   "source": [
    "%%sql\n",
    "\n",
    "CREATE TABLE Fam(Name TEXT, Age INTEGER, Profession TEXT, Major TEXT);\n",
    "INSERT INTO Fam (Name, Age) VALUES('Pam', 50);\n",
    "INSERT INTO Fam (Name, Age) VALUES('Miranda', 32);\n",
    "INSERT INTO Fam (Name, Age) VALUES('Pascal', 45);\n",
    "INSERT INTO Fam (Name, Age) VALUES('Dave', 12);\n",
    "INSERT INTO Fam (Name, Age) VALUES('Emmy', 23);"
   ]
  },
  {
   "cell_type": "code",
   "execution_count": 3,
   "metadata": {},
   "outputs": [
    {
     "name": "stdout",
     "output_type": "stream",
     "text": [
      " * sqlite:///databases/mydb.db\n",
      "Done.\n"
     ]
    },
    {
     "data": {
      "text/html": [
       "<table>\n",
       "    <thead>\n",
       "        <tr>\n",
       "            <th>Name</th>\n",
       "            <th>Age</th>\n",
       "            <th>Profession</th>\n",
       "            <th>Major</th>\n",
       "        </tr>\n",
       "    </thead>\n",
       "    <tbody>\n",
       "        <tr>\n",
       "            <td>Pam</td>\n",
       "            <td>50</td>\n",
       "            <td>Unknown</td>\n",
       "            <td>Unknown</td>\n",
       "        </tr>\n",
       "        <tr>\n",
       "            <td>Miranda</td>\n",
       "            <td>32</td>\n",
       "            <td>Unknown</td>\n",
       "            <td>Unknown</td>\n",
       "        </tr>\n",
       "        <tr>\n",
       "            <td>Pascal</td>\n",
       "            <td>45</td>\n",
       "            <td>Unknown</td>\n",
       "            <td>Unknown</td>\n",
       "        </tr>\n",
       "        <tr>\n",
       "            <td>Dave</td>\n",
       "            <td>12</td>\n",
       "            <td>Unknown</td>\n",
       "            <td>Unknown</td>\n",
       "        </tr>\n",
       "        <tr>\n",
       "            <td>Emmy</td>\n",
       "            <td>23</td>\n",
       "            <td>Unknown</td>\n",
       "            <td>Unknown</td>\n",
       "        </tr>\n",
       "    </tbody>\n",
       "</table>"
      ],
      "text/plain": [
       "[('Pam', 50, 'Unknown', 'Unknown'),\n",
       " ('Miranda', 32, 'Unknown', 'Unknown'),\n",
       " ('Pascal', 45, 'Unknown', 'Unknown'),\n",
       " ('Dave', 12, 'Unknown', 'Unknown'),\n",
       " ('Emmy', 23, 'Unknown', 'Unknown')]"
      ]
     },
     "execution_count": 3,
     "metadata": {},
     "output_type": "execute_result"
    }
   ],
   "source": [
    "%%sql\n",
    "\n",
    "SELECT * FROM Fam"
   ]
  },
  {
   "cell_type": "code",
   "execution_count": 4,
   "metadata": {},
   "outputs": [
    {
     "name": "stdout",
     "output_type": "stream",
     "text": [
      " * sqlite:///databases/mydb.db\n",
      "0 rows affected.\n"
     ]
    },
    {
     "data": {
      "text/plain": [
       "[]"
      ]
     },
     "execution_count": 4,
     "metadata": {},
     "output_type": "execute_result"
    }
   ],
   "source": [
    "%sql UPDATE Fam SET Profession='Unknown' WHERE Profession ISNULL"
   ]
  },
  {
   "cell_type": "code",
   "execution_count": 5,
   "metadata": {},
   "outputs": [
    {
     "name": "stdout",
     "output_type": "stream",
     "text": [
      " * sqlite:///databases/mydb.db\n",
      "Done.\n"
     ]
    },
    {
     "data": {
      "text/html": [
       "<table>\n",
       "    <thead>\n",
       "        <tr>\n",
       "            <th>Name</th>\n",
       "            <th>Age</th>\n",
       "            <th>Profession</th>\n",
       "            <th>Major</th>\n",
       "        </tr>\n",
       "    </thead>\n",
       "    <tbody>\n",
       "        <tr>\n",
       "            <td>Pam</td>\n",
       "            <td>50</td>\n",
       "            <td>Unknown</td>\n",
       "            <td>Unknown</td>\n",
       "        </tr>\n",
       "        <tr>\n",
       "            <td>Miranda</td>\n",
       "            <td>32</td>\n",
       "            <td>Unknown</td>\n",
       "            <td>Unknown</td>\n",
       "        </tr>\n",
       "        <tr>\n",
       "            <td>Pascal</td>\n",
       "            <td>45</td>\n",
       "            <td>Unknown</td>\n",
       "            <td>Unknown</td>\n",
       "        </tr>\n",
       "        <tr>\n",
       "            <td>Dave</td>\n",
       "            <td>12</td>\n",
       "            <td>Unknown</td>\n",
       "            <td>Unknown</td>\n",
       "        </tr>\n",
       "        <tr>\n",
       "            <td>Emmy</td>\n",
       "            <td>23</td>\n",
       "            <td>Unknown</td>\n",
       "            <td>Unknown</td>\n",
       "        </tr>\n",
       "    </tbody>\n",
       "</table>"
      ],
      "text/plain": [
       "[('Pam', 50, 'Unknown', 'Unknown'),\n",
       " ('Miranda', 32, 'Unknown', 'Unknown'),\n",
       " ('Pascal', 45, 'Unknown', 'Unknown'),\n",
       " ('Dave', 12, 'Unknown', 'Unknown'),\n",
       " ('Emmy', 23, 'Unknown', 'Unknown')]"
      ]
     },
     "execution_count": 5,
     "metadata": {},
     "output_type": "execute_result"
    }
   ],
   "source": [
    "%%sql\n",
    "\n",
    "SELECT * FROM Fam"
   ]
  },
  {
   "cell_type": "code",
   "execution_count": 6,
   "metadata": {},
   "outputs": [
    {
     "name": "stdout",
     "output_type": "stream",
     "text": [
      " * sqlite:///databases/mydb.db\n",
      "0 rows affected.\n"
     ]
    },
    {
     "data": {
      "text/plain": [
       "[]"
      ]
     },
     "execution_count": 6,
     "metadata": {},
     "output_type": "execute_result"
    }
   ],
   "source": [
    "var = 'Unknown'\n",
    "%sql UPDATE Fam SET Major=:var WHERE Major ISNULL"
   ]
  },
  {
   "cell_type": "code",
   "execution_count": 7,
   "metadata": {},
   "outputs": [
    {
     "name": "stdout",
     "output_type": "stream",
     "text": [
      " * sqlite:///databases/mydb.db\n",
      "Done.\n"
     ]
    },
    {
     "data": {
      "text/html": [
       "<table>\n",
       "    <thead>\n",
       "        <tr>\n",
       "            <th>Name</th>\n",
       "            <th>Age</th>\n",
       "            <th>Profession</th>\n",
       "            <th>Major</th>\n",
       "        </tr>\n",
       "    </thead>\n",
       "    <tbody>\n",
       "        <tr>\n",
       "            <td>Pam</td>\n",
       "            <td>50</td>\n",
       "            <td>Unknown</td>\n",
       "            <td>Unknown</td>\n",
       "        </tr>\n",
       "        <tr>\n",
       "            <td>Miranda</td>\n",
       "            <td>32</td>\n",
       "            <td>Unknown</td>\n",
       "            <td>Unknown</td>\n",
       "        </tr>\n",
       "        <tr>\n",
       "            <td>Pascal</td>\n",
       "            <td>45</td>\n",
       "            <td>Unknown</td>\n",
       "            <td>Unknown</td>\n",
       "        </tr>\n",
       "        <tr>\n",
       "            <td>Dave</td>\n",
       "            <td>12</td>\n",
       "            <td>Unknown</td>\n",
       "            <td>Unknown</td>\n",
       "        </tr>\n",
       "        <tr>\n",
       "            <td>Emmy</td>\n",
       "            <td>23</td>\n",
       "            <td>Unknown</td>\n",
       "            <td>Unknown</td>\n",
       "        </tr>\n",
       "    </tbody>\n",
       "</table>"
      ],
      "text/plain": [
       "[('Pam', 50, 'Unknown', 'Unknown'),\n",
       " ('Miranda', 32, 'Unknown', 'Unknown'),\n",
       " ('Pascal', 45, 'Unknown', 'Unknown'),\n",
       " ('Dave', 12, 'Unknown', 'Unknown'),\n",
       " ('Emmy', 23, 'Unknown', 'Unknown')]"
      ]
     },
     "execution_count": 7,
     "metadata": {},
     "output_type": "execute_result"
    }
   ],
   "source": [
    "%%sql\n",
    "\n",
    "SELECT * FROM Fam"
   ]
  },
  {
   "cell_type": "code",
   "execution_count": null,
   "metadata": {},
   "outputs": [],
   "source": [
    "# avoid vscode warning\n",
    "result = \"\""
   ]
  },
  {
   "cell_type": "code",
   "execution_count": 8,
   "metadata": {},
   "outputs": [
    {
     "name": "stdout",
     "output_type": "stream",
     "text": [
      " * sqlite:///databases/mydb.db\n",
      "Done.\n",
      "Returning data to local variable result\n"
     ]
    }
   ],
   "source": [
    "%%sql\n",
    "\n",
    "result << SELECT * FROM Fam ORDER BY Age"
   ]
  },
  {
   "cell_type": "code",
   "execution_count": 9,
   "metadata": {},
   "outputs": [
    {
     "data": {
      "text/html": [
       "<table>\n",
       "    <thead>\n",
       "        <tr>\n",
       "            <th>Name</th>\n",
       "            <th>Age</th>\n",
       "            <th>Profession</th>\n",
       "            <th>Major</th>\n",
       "        </tr>\n",
       "    </thead>\n",
       "    <tbody>\n",
       "        <tr>\n",
       "            <td>Dave</td>\n",
       "            <td>12</td>\n",
       "            <td>Unknown</td>\n",
       "            <td>Unknown</td>\n",
       "        </tr>\n",
       "        <tr>\n",
       "            <td>Emmy</td>\n",
       "            <td>23</td>\n",
       "            <td>Unknown</td>\n",
       "            <td>Unknown</td>\n",
       "        </tr>\n",
       "        <tr>\n",
       "            <td>Miranda</td>\n",
       "            <td>32</td>\n",
       "            <td>Unknown</td>\n",
       "            <td>Unknown</td>\n",
       "        </tr>\n",
       "        <tr>\n",
       "            <td>Pascal</td>\n",
       "            <td>45</td>\n",
       "            <td>Unknown</td>\n",
       "            <td>Unknown</td>\n",
       "        </tr>\n",
       "        <tr>\n",
       "            <td>Pam</td>\n",
       "            <td>50</td>\n",
       "            <td>Unknown</td>\n",
       "            <td>Unknown</td>\n",
       "        </tr>\n",
       "    </tbody>\n",
       "</table>"
      ],
      "text/plain": [
       "[('Dave', 12, 'Unknown', 'Unknown'),\n",
       " ('Emmy', 23, 'Unknown', 'Unknown'),\n",
       " ('Miranda', 32, 'Unknown', 'Unknown'),\n",
       " ('Pascal', 45, 'Unknown', 'Unknown'),\n",
       " ('Pam', 50, 'Unknown', 'Unknown')]"
      ]
     },
     "execution_count": 9,
     "metadata": {},
     "output_type": "execute_result"
    }
   ],
   "source": [
    "result"
   ]
  },
  {
   "cell_type": "code",
   "execution_count": 10,
   "metadata": {},
   "outputs": [
    {
     "data": {
      "text/plain": [
       "sql.run.ResultSet"
      ]
     },
     "execution_count": 10,
     "metadata": {},
     "output_type": "execute_result"
    }
   ],
   "source": [
    "type(result)"
   ]
  },
  {
   "cell_type": "code",
   "execution_count": 11,
   "metadata": {},
   "outputs": [],
   "source": [
    "## SQLite runs in a local file and it can’t be closed. To be able to end the connection you can restart your kernel\n",
    "\n",
    "# %sql -x / --close 'connection name'"
   ]
  },
  {
   "cell_type": "code",
   "execution_count": 12,
   "metadata": {},
   "outputs": [
    {
     "name": "stdout",
     "output_type": "stream",
     "text": [
      "The sql extension is already loaded. To reload it, use:\n",
      "  %reload_ext sql\n"
     ]
    }
   ],
   "source": [
    "# Another option\n",
    "\n",
    "# import libraries\n",
    "import pandas as pd\n",
    "import sqlite3\n",
    "\n",
    "# create a dataframe to import data for the tutorial\n",
    "df= pd.DataFrame({'name': ['Juan', 'Victoria', 'Mary'], \n",
    "                  'age': [23,34,43], \n",
    "                  'city': ['Miami', 'Buenos Aires','Santiago']})\n",
    "\n",
    "# We will sqlite3 library and create a connection\n",
    "cnn = sqlite3.connect('databases/example.db')\n",
    "\n",
    "df.to_sql('people', cnn)\n",
    "\n",
    "%load_ext sql\n",
    "%sql sqlite:///databases/example.db"
   ]
  },
  {
   "cell_type": "code",
   "execution_count": 34,
   "metadata": {},
   "outputs": [
    {
     "name": "stdout",
     "output_type": "stream",
     "text": [
      "   sqlite:///databases/mydb.db\n",
      " * sqlite:///example.db\n",
      "Done.\n"
     ]
    },
    {
     "data": {
      "text/html": [
       "<table>\n",
       "    <thead>\n",
       "        <tr>\n",
       "            <th>index</th>\n",
       "            <th>name</th>\n",
       "            <th>age</th>\n",
       "            <th>city</th>\n",
       "        </tr>\n",
       "    </thead>\n",
       "    <tbody>\n",
       "        <tr>\n",
       "            <td>0</td>\n",
       "            <td>Juan</td>\n",
       "            <td>23</td>\n",
       "            <td>Miami</td>\n",
       "        </tr>\n",
       "        <tr>\n",
       "            <td>1</td>\n",
       "            <td>Victoria</td>\n",
       "            <td>34</td>\n",
       "            <td>Buenos Aires</td>\n",
       "        </tr>\n",
       "        <tr>\n",
       "            <td>2</td>\n",
       "            <td>Mary</td>\n",
       "            <td>43</td>\n",
       "            <td>Santiago</td>\n",
       "        </tr>\n",
       "    </tbody>\n",
       "</table>"
      ],
      "text/plain": [
       "[(0, 'Juan', 23, 'Miami'),\n",
       " (1, 'Victoria', 34, 'Buenos Aires'),\n",
       " (2, 'Mary', 43, 'Santiago')]"
      ]
     },
     "execution_count": 34,
     "metadata": {},
     "output_type": "execute_result"
    }
   ],
   "source": [
    "%%sql\n",
    "SELECT *\n",
    "FROM people"
   ]
  }
 ],
 "metadata": {
  "kernelspec": {
   "display_name": ".venv",
   "language": "python",
   "name": "python3"
  },
  "language_info": {
   "codemirror_mode": {
    "name": "ipython",
    "version": 3
   },
   "file_extension": ".py",
   "mimetype": "text/x-python",
   "name": "python",
   "nbconvert_exporter": "python",
   "pygments_lexer": "ipython3",
   "version": "3.8.8"
  },
  "orig_nbformat": 4
 },
 "nbformat": 4,
 "nbformat_minor": 2
}
