{
 "cells": [
  {
   "cell_type": "markdown",
   "metadata": {},
   "source": [
    "# BOT on Computer - pyautogui"
   ]
  },
  {
   "cell_type": "markdown",
   "metadata": {},
   "source": [
    "**Steps:**\n",
    "\n",
    "1. Open this folder\n",
    "2. Execute the Selenium script\n",
    "\n",
    "*This Script was only developed for training purposes.*"
   ]
  },
  {
   "cell_type": "code",
   "execution_count": 9,
   "metadata": {},
   "outputs": [],
   "source": [
    "import pyautogui\n",
    "\n",
    "pyautogui.PAUSE = 1\n",
    "\n",
    "# Open the Terminal\n",
    "pyautogui.hotkey('win','r')\n",
    "pyautogui.write('cmd')\n",
    "pyautogui.press('enter')\n",
    "\n",
    "# Found the folder where the script is located\n",
    "pyautogui.write('cd /d ')\n",
    "pyautogui.write(r'D:\\DOCS\\my_workspace\\lab_house\\mw_git\\mw_python\\auto\\BOT_pyautogui-selenium')\n",
    "pyautogui.press('enter')\n",
    "\n",
    "# Execute the Python script\n",
    "pyautogui.write('python test.py')\n",
    "pyautogui.press('enter')\n",
    "\n",
    "# Close the Terminal\n",
    "#pyautogui.hotkey('ctrl','shift','w')"
   ]
  },
  {
   "cell_type": "markdown",
   "metadata": {},
   "source": [
    "# BOT on Web - Selenium"
   ]
  },
  {
   "cell_type": "markdown",
   "metadata": {},
   "source": [
    "**Steps:**\n",
    "\n",
    "- Schedule to every Monday at 12:00 PM.\n",
    "\n",
    "1. Open the site and log in\n",
    "2. \n",
    "3. "
   ]
  },
  {
   "cell_type": "code",
   "execution_count": 8,
   "metadata": {},
   "outputs": [],
   "source": [
    "from selenium import webdriver\n",
    "from selenium.webdriver.common.by import By\n",
    "from selenium.webdriver.common.keys import Keys\n",
    "from datetime import date, timedelta"
   ]
  },
  {
   "cell_type": "code",
   "execution_count": 13,
   "metadata": {},
   "outputs": [],
   "source": [
    "def connect(user='gf.mattos21@gmail.com',password=''):\n",
    "\n",
    "    browser = webdriver.Chrome()\n",
    "\n",
    "    browser.implicitly_wait(20)\n",
    "\n",
    "    browser.get('https://www.notion.so/login')\n",
    "    browser.maximize_window()\n",
    "\n",
    "    # Login - eMail\n",
    "    browser.find_element(By.XPATH, '//*[@id=\"notion-email-input-1\"]').send_keys(user)\n",
    "    browser.find_element(By.XPATH, '//*[@id=\"notion-app\"]/div/div[1]/div/main/div/section/div/div/div/div[2]/div[1]/div[3]/form/div[3]').click()\n",
    "    # Login - Password\n",
    "    browser.find_element(By.XPATH, '//*[@id=\"notion-password-input-2\"]').send_keys(password)\n",
    "    browser.find_element(By.XPATH, '//*[@id=\"notion-app\"]/div/div[1]/div/main/div/section/div/div/div/div[2]/div[1]/div[3]/form/div[3]').click()\n",
    "\n",
    "    return browser"
   ]
  },
  {
   "cell_type": "code",
   "execution_count": 1,
   "metadata": {},
   "outputs": [],
   "source": [
    "def newTask(browser, today, taskname, index, templateXPATH):\n",
    "\n",
    "    day = today.day\n",
    "    month = today.month\n",
    "    year = today.year\n",
    "\n",
    "    # Defining XPATHS\n",
    "    taskName_XPATH = '//*[@id=\"notion-app\"]/div/div[1]/div/div[4]/div/div[3]/div[2]/div[2]/div/div[1]/div/div[2]/div/div[2]/div[1]/div'\n",
    "    dueDate_XPATH = '//*[@id=\"notion-app\"]/div/div[1]/div/div[4]/div/div[3]/div[2]/div[2]/div/div[2]/div/div[1]/div/div[1]/div[2]/div/div[2]/div/div'\n",
    "    dueDateinput_XPATH = '//*[@id=\"notion-app\"]/div/div[2]/div[2]/div/div[2]/div[2]/div/div/div/div/div/div[1]/div[1]/div/div/input'\n",
    "\n",
    "    # Find New Task position\n",
    "    tasksDIV = browser.find_element(By.XPATH, '//*[@id=\"notion-app\"]/div/div[1]/div/div[2]/div[2]/div/div[2]/main/div[1]/div/div[4]/div/div[3]/div/div/div[2]/div/div/div/div/div')\n",
    "    newTask = tasksDIV.find_elements(By.CLASS_NAME, 'notion-focusable')[-1]\n",
    "\n",
    "    # New Task - myRoutine\n",
    "    newTask.click()\n",
    "    browser.find_element(By.XPATH, templateXPATH).click()\n",
    "\n",
    "    nameInput = browser.find_element(By.XPATH, taskName_XPATH)\n",
    "    nameInput.clear()\n",
    "    nameInput.send_keys(f'{taskname + index}')\n",
    "\n",
    "    browser.find_element(By.XPATH, dueDate_XPATH).click()\n",
    "\n",
    "    dueDateInput = browser.find_element(By.XPATH, dueDateinput_XPATH)\n",
    "    dueDateInput.send_keys(Keys.CONTROL + 'a')\n",
    "    dueDateInput.send_keys(Keys.BACKSPACE)\n",
    "    dueDateInput.send_keys(f'{month}/{day}/{year}')\n",
    "\n",
    "    dueDateInput.send_keys(Keys.ESCAPE)\n",
    "    newTask.send_keys(Keys.ESCAPE)"
   ]
  },
  {
   "cell_type": "code",
   "execution_count": 14,
   "metadata": {},
   "outputs": [],
   "source": [
    "browser = connect()\n",
    "\n",
    "today = date.today()\n",
    "\n",
    "templateMR_XPATH = '//*[@id=\"notion-app\"]/div/div[1]/div/div[4]/div/div[3]/div[2]/main/div/div/div[2]/div[2]/div/div[1]/div[1]/div[3]/div'\n",
    "templateCR_XPATH = '//*[@id=\"notion-app\"]/div/div[1]/div/div[4]/div/div[3]/div[2]/main/div/div/div[2]/div[2]/div/div[1]/div[1]/div[2]/div'\n",
    "\n",
    "for i in range(1,6):\n",
    "\n",
    "    newTask(browser, today, 'my_routine#', i, templateMR_XPATH)\n",
    "\n",
    "    newTask(browser, today, 'coding_routine#', i, templateCR_XPATH)\n",
    "\n",
    "    today = today + timedelta(1)\n"
   ]
  }
 ],
 "metadata": {
  "kernelspec": {
   "display_name": "Python 3.8.8 ('.venv': venv)",
   "language": "python",
   "name": "python3"
  },
  "language_info": {
   "codemirror_mode": {
    "name": "ipython",
    "version": 3
   },
   "file_extension": ".py",
   "mimetype": "text/x-python",
   "name": "python",
   "nbconvert_exporter": "python",
   "pygments_lexer": "ipython3",
   "version": "3.8.8"
  },
  "orig_nbformat": 4,
  "vscode": {
   "interpreter": {
    "hash": "45fe10efa64bbcffba8811c10d7d3a9d39459c698510053669a843b267a3952f"
   }
  }
 },
 "nbformat": 4,
 "nbformat_minor": 2
}
